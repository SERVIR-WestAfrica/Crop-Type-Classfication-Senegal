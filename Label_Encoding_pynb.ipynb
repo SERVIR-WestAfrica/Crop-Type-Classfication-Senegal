{
  "cells": [
    {
      "cell_type": "markdown",
      "metadata": {
        "id": "view-in-github",
        "colab_type": "text"
      },
      "source": [
        "<a href=\"https://colab.research.google.com/github/kkidia/Crop-Type-classfication_Senengal_DL/blob/main/Label_Encoding_pynb.ipynb\" target=\"_parent\"><img src=\"https://colab.research.google.com/assets/colab-badge.svg\" alt=\"Open In Colab\"/></a>"
      ]
    },
    {
      "cell_type": "code",
      "source": [
        "import ee\n",
        "ee.Authenticate()\n",
        "project_id = 'ee-XX' # Replace XX ! gee id\n",
        "ee.Initialize(project=project_id)"
      ],
      "metadata": {
        "id": "YTF97O4ySIPp"
      },
      "execution_count": null,
      "outputs": []
    },
    {
      "cell_type": "code",
      "source": [
        "import ee\n",
        "import pandas as pd\n",
        "from sklearn.preprocessing import LabelEncoder\n",
        "import geopandas as gpd\n",
        "import numpy as np"
      ],
      "metadata": {
        "id": "PHkAs8hfb0TB"
      },
      "execution_count": null,
      "outputs": []
    },
    {
      "cell_type": "code",
      "source": [
        "#@title GEE Assets\n",
        "def load_cleandata(asset_id):\n",
        "    return ee.FeatureCollection(asset_id)\n",
        "\n",
        "clean2018 = load_cleandata('projects/ee-XX/assets/crop_monitoring_class/ clean_raw_data_2018') #XX ! gee id\n",
        "clean2019 = load_cleandata('projects/ee-XX/assets/crop_monitoring_class/clean_raw_data_2019')\n",
        "clean2020 = load_cleandata('projects/ee-XX/assets/crop_monitoring_class/clean_raw_data_2020')\n",
        "clean2023 = load_cleandata('projects/ee-XX/assets/crop_monitoring_class/clean_raw_data_2023')\n",
        "\n",
        "clean_data = clean2018.merge(clean2019).merge(clean2020).merge(clean2023)"
      ],
      "metadata": {
        "id": "XWwawl7yvtaK"
      },
      "execution_count": null,
      "outputs": []
    },
    {
      "cell_type": "markdown",
      "source": [
        "### Numeric lables encoding to the dataset"
      ],
      "metadata": {
        "id": "0-mVOQWqpEX2"
      }
    },
    {
      "cell_type": "code",
      "source": [
        "# Convert the GEE FeatureCollection to a pandas DataFrame\n",
        "#understanding the data frame\n",
        "\n",
        "def fc_to_df(fc):\n",
        "    # Get the list of columns you want to extract\n",
        "    columns = ['ID', 'Class', 'Name', 'Sub_class', 'Year']\n",
        "    rows = fc.reduceColumns(ee.Reducer.toList(len(columns)), columns).get('list').getInfo()\n",
        "    df = pd.DataFrame(rows, columns=columns)\n",
        "    return df\n",
        "\n",
        "\n",
        "# Convert the combined data to pandas DataFrame\n",
        "polygon_df = fc_to_df(clean_data)\n",
        "\n",
        "# Automatically assign numeric labels to 'Class', 'Name', and 'Sub_class'\n",
        "label_encoders = {}\n",
        "mapping_dicts = {}\n",
        "for col in ['Class', 'Name', 'Sub_class']:\n",
        "    le = LabelEncoder()\n",
        "    polygon_df[col + '_label'] = le.fit_transform(polygon_df[col])\n",
        "    label_encoders[col] = le  # Store the label encoders for future use\n",
        "    # Create a mapping dictionary from class label to integer\n",
        "    mapping_dicts[col] = {class_label: index for index, class_label in enumerate(le.classes_)}\n",
        "\n",
        "#print(polygon_df.head())\n",
        "polygon_df.head()"
      ],
      "metadata": {
        "id": "P-xywZ76hP8C"
      },
      "execution_count": null,
      "outputs": []
    },
    {
      "cell_type": "code",
      "source": [
        "# Apply label encoding in GEE\n",
        "def apply_label_encoding(fc, mapping_dicts):\n",
        "    # Convert Python dictionaries to ee.Dictionary\n",
        "    ee_mapping_dicts = {col: ee.Dictionary(mapping_dicts[col]) for col in ['Class', 'Name', 'Sub_class']}\n",
        "\n",
        "    def encode_feature(feature):\n",
        "        for col in ['Class', 'Name', 'Sub_class']:\n",
        "            value = feature.get(col)\n",
        "            mapping_dict = ee_mapping_dicts[col]\n",
        "            # Get the mapped integer; use -1 if value is not found\n",
        "            label = mapping_dict.get(value, -1)\n",
        "            feature = feature.set(col + '_label', label)\n",
        "        return feature\n",
        "    return fc.map(encode_feature)\n"
      ],
      "metadata": {
        "id": "bhbm1m2sijE4"
      },
      "execution_count": null,
      "outputs": []
    },
    {
      "cell_type": "code",
      "source": [
        "\n",
        "# Convert the \"Year\" property from string to numeric\n",
        "def convert_year_to_numeric(fc):\n",
        "    def convert_year(feature):\n",
        "        year_numeric = ee.Number.parse(feature.get('Year'))\n",
        "        return feature.set('Year', year_numeric)\n",
        "    return fc.map(convert_year)\n",
        "\n"
      ],
      "metadata": {
        "id": "p-RLimH6pYGD"
      },
      "execution_count": null,
      "outputs": []
    },
    {
      "cell_type": "code",
      "source": [
        "# Export the data with numeric year and label-encoded fields\n",
        "def export_labeled_data(fc, year, asset_path, mapping_dicts):\n",
        "    # Convert the \"Year\" property to numeric\n",
        "    labeled_fc = convert_year_to_numeric(fc)\n",
        "    # Apply label encoding\n",
        "    labeled_fc = apply_label_encoding(labeled_fc, mapping_dicts)\n",
        "    # Export the updated feature collection\n",
        "    task = ee.batch.Export.table.toAsset(\n",
        "        collection=labeled_fc,\n",
        "        description=f'export_{year}_labeled_data',\n",
        "        assetId=asset_path\n",
        "    )\n",
        "    task.start()\n",
        "\n",
        "# Export the data year by year\n",
        "export_labeled_data(clean2018, 2018, 'projects/XX/assets/updated_label/labeled_clean_data_2018', mapping_dicts)\n",
        "export_labeled_data(clean2019, 2019, 'projects/XX/assets/updated_label/labeled_clean_data_2019', mapping_dicts)\n",
        "export_labeled_data(clean2020, 2020, 'projects/XX/assets/updated_label/labeled_clean_data_2020', mapping_dicts)\n",
        "export_labeled_data(clean2023, 2023, 'projects/XX/assets/updated_label/labeled_clean_data_2023', mapping_dicts)\n",
        "\n",
        "\n",
        "# Check the status of all tasks\n",
        "def check_task_status():\n",
        "    tasks = ee.batch.Task.list()\n",
        "    for task in tasks:\n",
        "        print(f\"Task ID: {task.id}\")\n",
        "        print(f\"State: {task.state}\")\n",
        "        print(f\"Description: {task.config.get('description')}\")\n",
        "        print(f\"Progress: {task.config.get('progress')}\")\n",
        "        print('-----------------------------')\n",
        "\n",
        "check_task_status()\n",
        "\n"
      ],
      "metadata": {
        "id": "jtAcMHsoisel"
      },
      "execution_count": null,
      "outputs": []
    },
    {
      "cell_type": "code",
      "source": [
        "#@title #labeled GEE ASSET\n",
        "def load_cleanlabel(asset_id):\n",
        "    return ee.FeatureCollection(asset_id)\n",
        "\n",
        "lable2018 = load_cleanlabel('projects/ee-XX/assets/clean_data_label/labeled_clean_data_2018') #XX ! gee id\n",
        "lable2019 = load_cleanlabel('projects/ee-XX/assets/clean_data_label/labeled_clean_data_2019')\n",
        "lable2020 = load_cleanlabel('projects/ee-XX/assets/clean_data_label/labeled_clean_data_2020')\n",
        "lable2023 = load_cleanlabel('projects/ee-XX/assets/clean_data_label/labeled_clean_data_2018')\n",
        "\n",
        "clean_labeled = lable2018.merge(lable2019).merge(lable2020).merge(lable2023)"
      ],
      "metadata": {
        "id": "WR784TKIEGxM"
      },
      "execution_count": null,
      "outputs": []
    },
    {
      "cell_type": "code",
      "source": [
        "#@title Labeled Classes to CSV\n",
        "#Extract the Labels infor for future references and data uses\n",
        "\n",
        "# Define a function to assign numeric labels\n",
        "def assign_numeric_labels(fc, fields):\n",
        "    unique_values = {field: fc.distinct(field).aggregate_array(field) for field in fields}\n",
        "\n",
        "    def add_numeric_labels(feature):\n",
        "        numeric_labels = {f\"{field}_numeric\": unique_values[field].indexOf(feature.get(field)) for field in fields}\n",
        "        return feature.set(numeric_labels)\n",
        "\n",
        "    return fc.map(add_numeric_labels)\n",
        "\n",
        "# Assign numeric labels to all relevant classes\n",
        "fields = ['Class', 'Name', 'Sub_class']\n",
        "labeled_clean_data = assign_numeric_labels(clean_labeled, fields)\n",
        "\n",
        "# Generic func #export grouped data\n",
        "def export_grouped_data(fc, group_field, export_description, file_prefix):\n",
        "    grouped_fc = fc.distinct(group_field).map(\n",
        "        lambda feature: feature.set('Count', fc.filter(ee.Filter.eq(group_field, feature.get(group_field))).size())\n",
        "    )\n",
        "    export_fc = grouped_fc.select(fields + [f\"{field}_numeric\" for field in fields] + ['Count'])\n",
        "    task = ee.batch.Export.table.toDrive(\n",
        "        collection=export_fc,\n",
        "        description=export_description,\n",
        "        folder='Crop_Coding',\n",
        "        fileNamePrefix=file_prefix,\n",
        "        fileFormat='CSV'\n",
        "    )\n",
        "    task.start()\n",
        "\n",
        "# Export grouped data by 'Class','Sub_class' & 'Name'\n",
        "export_grouped_data(labeled_clean_data, 'Class', 'class_counts_export', 'grouped_class_counts')\n",
        "\n",
        "export_grouped_data(labeled_clean_data, 'Sub_class', 'grouped_subclass_export', 'grouped_subclass_data')\n",
        "\n",
        "\n",
        "export_grouped_data(labeled_clean_data, 'Name', 'grouped_by_name_data_export', 'grouped_by_name_data')"
      ],
      "metadata": {
        "id": "vPUloExh0siH"
      },
      "execution_count": null,
      "outputs": []
    },
    {
      "cell_type": "code",
      "source": [
        "# closer looks to classes\n",
        "# fetch features in batches\n",
        "def get_feature_batch(collection, batch_size=5000):\n",
        "\n",
        "    all_features = []\n",
        "\n",
        "    # Get the total number of features in the collection\n",
        "    total_count = collection.size().getInfo()\n",
        "\n",
        "    # Loop through the collection in batches\n",
        "    for i in range(0, total_count, batch_size):\n",
        "        # Fetch the current batch of features\n",
        "        batch = collection.toList(batch_size, i).map(lambda f: ee.Feature(f).toDictionary()).getInfo()\n",
        "\n",
        "        # Add the batch to the list of all features\n",
        "        all_features.extend(batch)\n",
        "\n",
        "    return all_features\n",
        "\n",
        "# get all features from the collection\n",
        "feature_properties = get_feature_batch(ee.FeatureCollection(clean_labeled))\n",
        "\n",
        "# Convert to DataFrame\n",
        "df = pd.DataFrame(feature_properties)\n",
        "\n",
        "# Group the DataFrame by \"Name\", and count occurrences, keeping \"Class\" and \"Sub-class\"\n",
        "grouped_df = df.groupby(['Name', 'Class', 'Sub_class']).size().reset_index(name='Count')\n",
        "\n",
        "# Export the grouped data to a CSV file\n",
        "grouped_df.to_csv('grouped_polygons.csv', index=False)\n",
        "\n",
        "# To display the resulting CSV\n",
        "from google.colab import sheets\n",
        "sheet = sheets.InteractiveSheet(df=grouped_df)\n",
        "\n",
        "# Show the first few rows\n",
        "grouped_df.head()\n"
      ],
      "metadata": {
        "id": "6YGocMZ9KxuS",
        "colab": {
          "base_uri": "https://localhost:8080/",
          "height": 827
        },
        "outputId": "6c2ba2c5-b3af-413d-ed5d-089f51c6e544"
      },
      "execution_count": null,
      "outputs": [
        {
          "output_type": "stream",
          "name": "stdout",
          "text": [
            "https://docs.google.com/spreadsheets/d/1w2-iHn1Yvbmzu-BDx206cZ9aFXVyl9Hmm3hqi1ZQs0k#gid=0\n"
          ]
        },
        {
          "output_type": "display_data",
          "data": {
            "text/plain": [
              "<IPython.lib.display.IFrame at 0x7933a67719c0>"
            ],
            "text/html": [
              "\n",
              "        <iframe\n",
              "            width=\"100%\"\n",
              "            height=\"600\"\n",
              "            src=\"https://docs.google.com/spreadsheets/d/1w2-iHn1Yvbmzu-BDx206cZ9aFXVyl9Hmm3hqi1ZQs0k#gid=0/edit?rm=embedded?usp=sharing?widget=true&amp;headers=false\"\n",
              "            frameborder=\"0\"\n",
              "            allowfullscreen\n",
              "            \n",
              "        ></iframe>\n",
              "        "
            ]
          },
          "metadata": {}
        },
        {
          "output_type": "execute_result",
          "data": {
            "text/plain": [
              "               Name    Class      Sub_class  Count\n",
              "0         Bare_Soil  Noncrop  Bare_Built_Up      2\n",
              "1              Bean     Crop        Legumes     20\n",
              "2            Bissap     Crop     Vegetables     24\n",
              "3  Bissap_Groundnut     Crop     Vegetables      1\n",
              "4          Built_Up  Noncrop  Bare_Built_Up    112"
            ],
            "text/html": [
              "\n",
              "  <div id=\"df-b25f947b-ee35-4f55-b528-01c48205d643\" class=\"colab-df-container\">\n",
              "    <div>\n",
              "<style scoped>\n",
              "    .dataframe tbody tr th:only-of-type {\n",
              "        vertical-align: middle;\n",
              "    }\n",
              "\n",
              "    .dataframe tbody tr th {\n",
              "        vertical-align: top;\n",
              "    }\n",
              "\n",
              "    .dataframe thead th {\n",
              "        text-align: right;\n",
              "    }\n",
              "</style>\n",
              "<table border=\"1\" class=\"dataframe\">\n",
              "  <thead>\n",
              "    <tr style=\"text-align: right;\">\n",
              "      <th></th>\n",
              "      <th>Name</th>\n",
              "      <th>Class</th>\n",
              "      <th>Sub_class</th>\n",
              "      <th>Count</th>\n",
              "    </tr>\n",
              "  </thead>\n",
              "  <tbody>\n",
              "    <tr>\n",
              "      <th>0</th>\n",
              "      <td>Bare_Soil</td>\n",
              "      <td>Noncrop</td>\n",
              "      <td>Bare_Built_Up</td>\n",
              "      <td>2</td>\n",
              "    </tr>\n",
              "    <tr>\n",
              "      <th>1</th>\n",
              "      <td>Bean</td>\n",
              "      <td>Crop</td>\n",
              "      <td>Legumes</td>\n",
              "      <td>20</td>\n",
              "    </tr>\n",
              "    <tr>\n",
              "      <th>2</th>\n",
              "      <td>Bissap</td>\n",
              "      <td>Crop</td>\n",
              "      <td>Vegetables</td>\n",
              "      <td>24</td>\n",
              "    </tr>\n",
              "    <tr>\n",
              "      <th>3</th>\n",
              "      <td>Bissap_Groundnut</td>\n",
              "      <td>Crop</td>\n",
              "      <td>Vegetables</td>\n",
              "      <td>1</td>\n",
              "    </tr>\n",
              "    <tr>\n",
              "      <th>4</th>\n",
              "      <td>Built_Up</td>\n",
              "      <td>Noncrop</td>\n",
              "      <td>Bare_Built_Up</td>\n",
              "      <td>112</td>\n",
              "    </tr>\n",
              "  </tbody>\n",
              "</table>\n",
              "</div>\n",
              "    <div class=\"colab-df-buttons\">\n",
              "\n",
              "  <div class=\"colab-df-container\">\n",
              "    <button class=\"colab-df-convert\" onclick=\"convertToInteractive('df-b25f947b-ee35-4f55-b528-01c48205d643')\"\n",
              "            title=\"Convert this dataframe to an interactive table.\"\n",
              "            style=\"display:none;\">\n",
              "\n",
              "  <svg xmlns=\"http://www.w3.org/2000/svg\" height=\"24px\" viewBox=\"0 -960 960 960\">\n",
              "    <path d=\"M120-120v-720h720v720H120Zm60-500h600v-160H180v160Zm220 220h160v-160H400v160Zm0 220h160v-160H400v160ZM180-400h160v-160H180v160Zm440 0h160v-160H620v160ZM180-180h160v-160H180v160Zm440 0h160v-160H620v160Z\"/>\n",
              "  </svg>\n",
              "    </button>\n",
              "\n",
              "  <style>\n",
              "    .colab-df-container {\n",
              "      display:flex;\n",
              "      gap: 12px;\n",
              "    }\n",
              "\n",
              "    .colab-df-convert {\n",
              "      background-color: #E8F0FE;\n",
              "      border: none;\n",
              "      border-radius: 50%;\n",
              "      cursor: pointer;\n",
              "      display: none;\n",
              "      fill: #1967D2;\n",
              "      height: 32px;\n",
              "      padding: 0 0 0 0;\n",
              "      width: 32px;\n",
              "    }\n",
              "\n",
              "    .colab-df-convert:hover {\n",
              "      background-color: #E2EBFA;\n",
              "      box-shadow: 0px 1px 2px rgba(60, 64, 67, 0.3), 0px 1px 3px 1px rgba(60, 64, 67, 0.15);\n",
              "      fill: #174EA6;\n",
              "    }\n",
              "\n",
              "    .colab-df-buttons div {\n",
              "      margin-bottom: 4px;\n",
              "    }\n",
              "\n",
              "    [theme=dark] .colab-df-convert {\n",
              "      background-color: #3B4455;\n",
              "      fill: #D2E3FC;\n",
              "    }\n",
              "\n",
              "    [theme=dark] .colab-df-convert:hover {\n",
              "      background-color: #434B5C;\n",
              "      box-shadow: 0px 1px 3px 1px rgba(0, 0, 0, 0.15);\n",
              "      filter: drop-shadow(0px 1px 2px rgba(0, 0, 0, 0.3));\n",
              "      fill: #FFFFFF;\n",
              "    }\n",
              "  </style>\n",
              "\n",
              "    <script>\n",
              "      const buttonEl =\n",
              "        document.querySelector('#df-b25f947b-ee35-4f55-b528-01c48205d643 button.colab-df-convert');\n",
              "      buttonEl.style.display =\n",
              "        google.colab.kernel.accessAllowed ? 'block' : 'none';\n",
              "\n",
              "      async function convertToInteractive(key) {\n",
              "        const element = document.querySelector('#df-b25f947b-ee35-4f55-b528-01c48205d643');\n",
              "        const dataTable =\n",
              "          await google.colab.kernel.invokeFunction('convertToInteractive',\n",
              "                                                    [key], {});\n",
              "        if (!dataTable) return;\n",
              "\n",
              "        const docLinkHtml = 'Like what you see? Visit the ' +\n",
              "          '<a target=\"_blank\" href=https://colab.research.google.com/notebooks/data_table.ipynb>data table notebook</a>'\n",
              "          + ' to learn more about interactive tables.';\n",
              "        element.innerHTML = '';\n",
              "        dataTable['output_type'] = 'display_data';\n",
              "        await google.colab.output.renderOutput(dataTable, element);\n",
              "        const docLink = document.createElement('div');\n",
              "        docLink.innerHTML = docLinkHtml;\n",
              "        element.appendChild(docLink);\n",
              "      }\n",
              "    </script>\n",
              "  </div>\n",
              "\n",
              "\n",
              "<div id=\"df-5bcfd36a-fa90-4193-9d77-ff4e17242dbe\">\n",
              "  <button class=\"colab-df-quickchart\" onclick=\"quickchart('df-5bcfd36a-fa90-4193-9d77-ff4e17242dbe')\"\n",
              "            title=\"Suggest charts\"\n",
              "            style=\"display:none;\">\n",
              "\n",
              "<svg xmlns=\"http://www.w3.org/2000/svg\" height=\"24px\"viewBox=\"0 0 24 24\"\n",
              "     width=\"24px\">\n",
              "    <g>\n",
              "        <path d=\"M19 3H5c-1.1 0-2 .9-2 2v14c0 1.1.9 2 2 2h14c1.1 0 2-.9 2-2V5c0-1.1-.9-2-2-2zM9 17H7v-7h2v7zm4 0h-2V7h2v10zm4 0h-2v-4h2v4z\"/>\n",
              "    </g>\n",
              "</svg>\n",
              "  </button>\n",
              "\n",
              "<style>\n",
              "  .colab-df-quickchart {\n",
              "      --bg-color: #E8F0FE;\n",
              "      --fill-color: #1967D2;\n",
              "      --hover-bg-color: #E2EBFA;\n",
              "      --hover-fill-color: #174EA6;\n",
              "      --disabled-fill-color: #AAA;\n",
              "      --disabled-bg-color: #DDD;\n",
              "  }\n",
              "\n",
              "  [theme=dark] .colab-df-quickchart {\n",
              "      --bg-color: #3B4455;\n",
              "      --fill-color: #D2E3FC;\n",
              "      --hover-bg-color: #434B5C;\n",
              "      --hover-fill-color: #FFFFFF;\n",
              "      --disabled-bg-color: #3B4455;\n",
              "      --disabled-fill-color: #666;\n",
              "  }\n",
              "\n",
              "  .colab-df-quickchart {\n",
              "    background-color: var(--bg-color);\n",
              "    border: none;\n",
              "    border-radius: 50%;\n",
              "    cursor: pointer;\n",
              "    display: none;\n",
              "    fill: var(--fill-color);\n",
              "    height: 32px;\n",
              "    padding: 0;\n",
              "    width: 32px;\n",
              "  }\n",
              "\n",
              "  .colab-df-quickchart:hover {\n",
              "    background-color: var(--hover-bg-color);\n",
              "    box-shadow: 0 1px 2px rgba(60, 64, 67, 0.3), 0 1px 3px 1px rgba(60, 64, 67, 0.15);\n",
              "    fill: var(--button-hover-fill-color);\n",
              "  }\n",
              "\n",
              "  .colab-df-quickchart-complete:disabled,\n",
              "  .colab-df-quickchart-complete:disabled:hover {\n",
              "    background-color: var(--disabled-bg-color);\n",
              "    fill: var(--disabled-fill-color);\n",
              "    box-shadow: none;\n",
              "  }\n",
              "\n",
              "  .colab-df-spinner {\n",
              "    border: 2px solid var(--fill-color);\n",
              "    border-color: transparent;\n",
              "    border-bottom-color: var(--fill-color);\n",
              "    animation:\n",
              "      spin 1s steps(1) infinite;\n",
              "  }\n",
              "\n",
              "  @keyframes spin {\n",
              "    0% {\n",
              "      border-color: transparent;\n",
              "      border-bottom-color: var(--fill-color);\n",
              "      border-left-color: var(--fill-color);\n",
              "    }\n",
              "    20% {\n",
              "      border-color: transparent;\n",
              "      border-left-color: var(--fill-color);\n",
              "      border-top-color: var(--fill-color);\n",
              "    }\n",
              "    30% {\n",
              "      border-color: transparent;\n",
              "      border-left-color: var(--fill-color);\n",
              "      border-top-color: var(--fill-color);\n",
              "      border-right-color: var(--fill-color);\n",
              "    }\n",
              "    40% {\n",
              "      border-color: transparent;\n",
              "      border-right-color: var(--fill-color);\n",
              "      border-top-color: var(--fill-color);\n",
              "    }\n",
              "    60% {\n",
              "      border-color: transparent;\n",
              "      border-right-color: var(--fill-color);\n",
              "    }\n",
              "    80% {\n",
              "      border-color: transparent;\n",
              "      border-right-color: var(--fill-color);\n",
              "      border-bottom-color: var(--fill-color);\n",
              "    }\n",
              "    90% {\n",
              "      border-color: transparent;\n",
              "      border-bottom-color: var(--fill-color);\n",
              "    }\n",
              "  }\n",
              "</style>\n",
              "\n",
              "  <script>\n",
              "    async function quickchart(key) {\n",
              "      const quickchartButtonEl =\n",
              "        document.querySelector('#' + key + ' button');\n",
              "      quickchartButtonEl.disabled = true;  // To prevent multiple clicks.\n",
              "      quickchartButtonEl.classList.add('colab-df-spinner');\n",
              "      try {\n",
              "        const charts = await google.colab.kernel.invokeFunction(\n",
              "            'suggestCharts', [key], {});\n",
              "      } catch (error) {\n",
              "        console.error('Error during call to suggestCharts:', error);\n",
              "      }\n",
              "      quickchartButtonEl.classList.remove('colab-df-spinner');\n",
              "      quickchartButtonEl.classList.add('colab-df-quickchart-complete');\n",
              "    }\n",
              "    (() => {\n",
              "      let quickchartButtonEl =\n",
              "        document.querySelector('#df-5bcfd36a-fa90-4193-9d77-ff4e17242dbe button');\n",
              "      quickchartButtonEl.style.display =\n",
              "        google.colab.kernel.accessAllowed ? 'block' : 'none';\n",
              "    })();\n",
              "  </script>\n",
              "</div>\n",
              "\n",
              "    </div>\n",
              "  </div>\n"
            ],
            "application/vnd.google.colaboratory.intrinsic+json": {
              "type": "dataframe",
              "variable_name": "grouped_df",
              "summary": "{\n  \"name\": \"grouped_df\",\n  \"rows\": 56,\n  \"fields\": [\n    {\n      \"column\": \"Name\",\n      \"properties\": {\n        \"dtype\": \"string\",\n        \"num_unique_values\": 56,\n        \"samples\": [\n          \"Bare_Soil\",\n          \"Cabbage\",\n          \"Millet_Groundnut\"\n        ],\n        \"semantic_type\": \"\",\n        \"description\": \"\"\n      }\n    },\n    {\n      \"column\": \"Class\",\n      \"properties\": {\n        \"dtype\": \"category\",\n        \"num_unique_values\": 3,\n        \"samples\": [\n          \"Noncrop\",\n          \"Crop\",\n          \"Fallow\"\n        ],\n        \"semantic_type\": \"\",\n        \"description\": \"\"\n      }\n    },\n    {\n      \"column\": \"Sub_class\",\n      \"properties\": {\n        \"dtype\": \"category\",\n        \"num_unique_values\": 8,\n        \"samples\": [\n          \"Legumes\",\n          \"Cereals\",\n          \"Bare_Built_Up\"\n        ],\n        \"semantic_type\": \"\",\n        \"description\": \"\"\n      }\n    },\n    {\n      \"column\": \"Count\",\n      \"properties\": {\n        \"dtype\": \"number\",\n        \"std\": 769,\n        \"min\": 1,\n        \"max\": 4003,\n        \"num_unique_values\": 34,\n        \"samples\": [\n          12,\n          11,\n          8\n        ],\n        \"semantic_type\": \"\",\n        \"description\": \"\"\n      }\n    }\n  ]\n}"
            }
          },
          "metadata": {},
          "execution_count": 6
        }
      ]
    },
    {
      "source": [
        "# @title Sub_class\n",
        "\n",
        "from matplotlib import pyplot as plt\n",
        "import seaborn as sns\n",
        "grouped_df.groupby('Sub_class').size().plot(kind='barh', color=sns.palettes.mpl_palette('Dark2'))\n",
        "plt.gca().spines[['top', 'right',]].set_visible(False)"
      ],
      "cell_type": "code",
      "execution_count": null,
      "outputs": [
        {
          "output_type": "display_data",
          "data": {
            "text/plain": [
              "<Figure size 640x480 with 1 Axes>"
            ],
            "image/png": "[encoded data removed]"
          },
          "metadata": {}
        }
      ],
      "metadata": {
        "cellView": "form",
        "colab": {
          "base_uri": "https://localhost:8080/",
          "height": 430
        },
        "id": "uw3UabPjGVkL",
        "outputId": "785fdcf7-6e71-48ae-b7d2-20007b4fb4d6"
      }
    },
    {
      "source": [
        "# @title Sub_class vs Count\n",
        "\n",
        "from matplotlib import pyplot as plt\n",
        "import seaborn as sns\n",
        "figsize = (12, 1.2 * len(grouped_df['Sub_class'].unique()))\n",
        "plt.figure(figsize=figsize)\n",
        "sns.violinplot(grouped_df, x='Count', y='Sub_class', inner='stick', palette='Dark2')\n",
        "sns.despine(top=True, right=True, bottom=True, left=True)"
      ],
      "cell_type": "code",
      "execution_count": null,
      "outputs": [
        {
          "output_type": "stream",
          "name": "stderr",
          "text": [
            "<ipython-input-7-5e9d3e1372aa>:7: FutureWarning: \n",
            "\n",
            "Passing `palette` without assigning `hue` is deprecated and will be removed in v0.14.0. Assign the `y` variable to `hue` and set `legend=False` for the same effect.\n",
            "\n",
            "  sns.violinplot(grouped_df, x='Count', y='Sub_class', inner='stick', palette='Dark2')\n"
          ]
        },
        {
          "output_type": "display_data",
          "data": {
            "text/plain": [
              "<Figure size 1200x960 with 1 Axes>"
            ],
            "image/png": "[encoded data removed]"
          },
          "metadata": {}
        }
      ],
      "metadata": {
        "colab": {
          "base_uri": "https://localhost:8080/",
          "height": 926
        },
        "id": "TBOCn_k6FwAB",
        "outputId": "ccdea890-97e4-44eb-85c7-987187366de9"
      }
    }
  ],
  "metadata": {
    "colab": {
      "provenance": [],
      "include_colab_link": true
    },
    "kernelspec": {
      "display_name": "Python 3",
      "name": "python3"
    },
    "language_info": {
      "name": "python"
    }
  },
  "nbformat": 4,
  "nbformat_minor": 0
}